{
  "nbformat": 4,
  "nbformat_minor": 0,
  "metadata": {
    "colab": {
      "provenance": [],
      "authorship_tag": "ABX9TyO4qZxLNtq/RpKt+Ss6cwSR",
      "include_colab_link": true
    },
    "kernelspec": {
      "name": "python3",
      "display_name": "Python 3"
    },
    "language_info": {
      "name": "python"
    }
  },
  "cells": [
    {
      "cell_type": "markdown",
      "metadata": {
        "id": "view-in-github",
        "colab_type": "text"
      },
      "source": [
        "<a href=\"https://colab.research.google.com/github/oliverturpo/APRENDIZAJE-SUPERVISADO/blob/main/clase06_10.ipynb\" target=\"_parent\"><img src=\"https://colab.research.google.com/assets/colab-badge.svg\" alt=\"Open In Colab\"/></a>"
      ]
    },
    {
      "cell_type": "code",
      "execution_count": 7,
      "metadata": {
        "id": "6v8Kl22bxg-S"
      },
      "outputs": [],
      "source": [
        "import numpy as np\n",
        "from sklearn.model_selection import cross_validate, KFold\n",
        "from sklearn.linear_model import LogisticRegression\n",
        "from sklearn.datasets import load_iris\n",
        "\n",
        "\n",
        "\n",
        "\n",
        "\n"
      ]
    },
    {
      "cell_type": "code",
      "source": [
        "X, y = load_iris(return_X_y=True)\n"
      ],
      "metadata": {
        "id": "GR0rxTp1zODR"
      },
      "execution_count": 8,
      "outputs": []
    },
    {
      "cell_type": "code",
      "source": [
        "modelo = LogisticRegression(max_iter=100)"
      ],
      "metadata": {
        "id": "p6MkZ3Tb0uKq"
      },
      "execution_count": 9,
      "outputs": []
    },
    {
      "cell_type": "code",
      "source": [
        "K = 10\n",
        "kf = KFold(n_splits=K, shuffle=True, random_state=42)\n",
        "\n"
      ],
      "metadata": {
        "id": "F_zGLx-1082h"
      },
      "execution_count": 21,
      "outputs": []
    },
    {
      "cell_type": "code",
      "source": [
        "metricas = cross_validate(modelo, X, y, cv=kf, return_train_score=True)\n",
        "metricas"
      ],
      "metadata": {
        "colab": {
          "base_uri": "https://localhost:8080/"
        },
        "id": "VDc2fH9y2CO0",
        "outputId": "30d7cda6-ba68-4d47-8124-0d0a8016478b"
      },
      "execution_count": 22,
      "outputs": [
        {
          "output_type": "execute_result",
          "data": {
            "text/plain": [
              "{'fit_time': array([0.05235052, 0.04428172, 0.02552223, 0.02477026, 0.01779461,\n",
              "        0.01672268, 0.02103972, 0.02932501, 0.04868245, 0.02423978]),\n",
              " 'score_time': array([0.002527  , 0.00115061, 0.0011518 , 0.0013628 , 0.00111294,\n",
              "        0.00118589, 0.00152946, 0.00252891, 0.00137424, 0.00110817]),\n",
              " 'test_score': array([1.        , 1.        , 1.        , 1.        , 1.        ,\n",
              "        0.86666667, 0.93333333, 1.        , 1.        , 0.93333333]),\n",
              " 'train_score': array([0.97777778, 0.97037037, 0.97037037, 0.97777778, 0.97777778,\n",
              "        0.99259259, 0.98518519, 0.97037037, 0.97777778, 0.97037037])}"
            ]
          },
          "metadata": {},
          "execution_count": 22
        }
      ]
    },
    {
      "cell_type": "code",
      "source": [
        "test_score = metricas['test_score']\n",
        "train_score = metricas['train_score']"
      ],
      "metadata": {
        "id": "igh1r4ph3whe"
      },
      "execution_count": 23,
      "outputs": []
    },
    {
      "cell_type": "code",
      "source": [
        "print(f\"Promedio de rendimiento test: {np.mean(test_score):.3f} y std {np.std(test_score)}\")\n",
        "print(f\"Promedio de rendimiento train: {np.mean(train_score):.3f}\")"
      ],
      "metadata": {
        "colab": {
          "base_uri": "https://localhost:8080/"
        },
        "id": "Ud18uobF49vX",
        "outputId": "b03e978f-2e97-4d8a-d89c-669ccf8ae5e1"
      },
      "execution_count": 30,
      "outputs": [
        {
          "output_type": "stream",
          "name": "stdout",
          "text": [
            "Promedio de rendimiento test: 0.973 y std 0.04422166387140532\n",
            "Promedio de rendimiento train: 0.977\n"
          ]
        }
      ]
    }
  ]
}