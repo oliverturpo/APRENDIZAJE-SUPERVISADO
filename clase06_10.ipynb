{
  "nbformat": 4,
  "nbformat_minor": 0,
  "metadata": {
    "colab": {
      "provenance": [],
      "authorship_tag": "ABX9TyNOasNMKJwRYd0JOrBFOMyx",
      "include_colab_link": true
    },
    "kernelspec": {
      "name": "python3",
      "display_name": "Python 3"
    },
    "language_info": {
      "name": "python"
    }
  },
  "cells": [
    {
      "cell_type": "markdown",
      "metadata": {
        "id": "view-in-github",
        "colab_type": "text"
      },
      "source": [
        "<a href=\"https://colab.research.google.com/github/oliverturpo/APRENDIZAJE-SUPERVISADO/blob/main/clase06_10.ipynb\" target=\"_parent\"><img src=\"https://colab.research.google.com/assets/colab-badge.svg\" alt=\"Open In Colab\"/></a>"
      ]
    },
    {
      "cell_type": "code",
      "execution_count": 7,
      "metadata": {
        "id": "6v8Kl22bxg-S"
      },
      "outputs": [],
      "source": [
        "import numpy as np\n",
        "from sklearn.model_selection import cross_validate, KFold\n",
        "from sklearn.linear_model import LogisticRegression\n",
        "from sklearn.datasets import load_iris\n",
        "\n",
        "\n",
        "\n",
        "\n",
        "\n"
      ]
    },
    {
      "cell_type": "code",
      "source": [
        "X, y = load_iris(return_X_y=True)\n"
      ],
      "metadata": {
        "id": "GR0rxTp1zODR"
      },
      "execution_count": 8,
      "outputs": []
    },
    {
      "cell_type": "code",
      "source": [
        "modelo = LogisticRegression(max_iter=100)"
      ],
      "metadata": {
        "id": "p6MkZ3Tb0uKq"
      },
      "execution_count": 9,
      "outputs": []
    },
    {
      "cell_type": "code",
      "source": [
        "K = 10\n",
        "kf = KFold(n_splits=K, shuffle=True, random_state=42)\n",
        "\n"
      ],
      "metadata": {
        "id": "F_zGLx-1082h"
      },
      "execution_count": 21,
      "outputs": []
    },
    {
      "cell_type": "code",
      "source": [
        "metricas = cross_validate(modelo, X, y, cv=kf, return_train_score=True)\n",
        "metricas"
      ],
      "metadata": {
        "colab": {
          "base_uri": "https://localhost:8080/"
        },
        "id": "VDc2fH9y2CO0",
        "outputId": "30d7cda6-ba68-4d47-8124-0d0a8016478b"
      },
      "execution_count": 22,
      "outputs": [
        {
          "output_type": "execute_result",
          "data": {
            "text/plain": [
              "{'fit_time': array([0.05235052, 0.04428172, 0.02552223, 0.02477026, 0.01779461,\n",
              "        0.01672268, 0.02103972, 0.02932501, 0.04868245, 0.02423978]),\n",
              " 'score_time': array([0.002527  , 0.00115061, 0.0011518 , 0.0013628 , 0.00111294,\n",
              "        0.00118589, 0.00152946, 0.00252891, 0.00137424, 0.00110817]),\n",
              " 'test_score': array([1.        , 1.        , 1.        , 1.        , 1.        ,\n",
              "        0.86666667, 0.93333333, 1.        , 1.        , 0.93333333]),\n",
              " 'train_score': array([0.97777778, 0.97037037, 0.97037037, 0.97777778, 0.97777778,\n",
              "        0.99259259, 0.98518519, 0.97037037, 0.97777778, 0.97037037])}"
            ]
          },
          "metadata": {},
          "execution_count": 22
        }
      ]
    },
    {
      "cell_type": "code",
      "source": [
        "test_score = metricas['test_score']\n",
        "train_score = metricas['train_score']"
      ],
      "metadata": {
        "id": "igh1r4ph3whe"
      },
      "execution_count": 23,
      "outputs": []
    },
    {
      "cell_type": "code",
      "source": [
        "print(f\"Promedio de rendimiento test: {np.mean(test_score):.3f} y std {np.std(test_score)}\")\n",
        "print(f\"Promedio de rendimiento train: {np.mean(train_score):.3f}\")"
      ],
      "metadata": {
        "colab": {
          "base_uri": "https://localhost:8080/"
        },
        "id": "Ud18uobF49vX",
        "outputId": "b03e978f-2e97-4d8a-d89c-669ccf8ae5e1"
      },
      "execution_count": 30,
      "outputs": [
        {
          "output_type": "stream",
          "name": "stdout",
          "text": [
            "Promedio de rendimiento test: 0.973 y std 0.04422166387140532\n",
            "Promedio de rendimiento train: 0.977\n"
          ]
        }
      ]
    },
    {
      "cell_type": "code",
      "source": [
        "means_test_score = []\n",
        "means_train_score = []\n",
        "std_test_score = []\n",
        "std_train_score = []\n",
        "K = []\n",
        "\n",
        "for k in range(5, 11):\n",
        "    kf = KFold(n_splits=k, shuffle=True, random_state=42)\n",
        "    metricas = cross_validate(modelo, X, y, cv=kf, return_train_score=True)\n",
        "    test_score = metricas['test_score']\n",
        "    train_score = metricas['train_score']\n",
        "\n",
        "    means_test_score.append(np.mean(test_score))\n",
        "    means_train_score.append(np.mean(train_score))\n",
        "    std_test_score.append(np.std(test_score))\n",
        "    std_train_score.append(np.std(train_score))\n",
        "    K.append(k)\n",
        "\n",
        "\n"
      ],
      "metadata": {
        "colab": {
          "base_uri": "https://localhost:8080/"
        },
        "id": "ZVxHLizy8qWX",
        "outputId": "8997dff9-be6e-466b-c857-b7edd79c89d9"
      },
      "execution_count": 42,
      "outputs": [
        {
          "output_type": "stream",
          "name": "stderr",
          "text": [
            "/usr/local/lib/python3.12/dist-packages/sklearn/linear_model/_logistic.py:465: ConvergenceWarning: lbfgs failed to converge (status=1):\n",
            "STOP: TOTAL NO. OF ITERATIONS REACHED LIMIT.\n",
            "\n",
            "Increase the number of iterations (max_iter) or scale the data as shown in:\n",
            "    https://scikit-learn.org/stable/modules/preprocessing.html\n",
            "Please also refer to the documentation for alternative solver options:\n",
            "    https://scikit-learn.org/stable/modules/linear_model.html#logistic-regression\n",
            "  n_iter_i = _check_optimize_result(\n",
            "/usr/local/lib/python3.12/dist-packages/sklearn/linear_model/_logistic.py:465: ConvergenceWarning: lbfgs failed to converge (status=1):\n",
            "STOP: TOTAL NO. OF ITERATIONS REACHED LIMIT.\n",
            "\n",
            "Increase the number of iterations (max_iter) or scale the data as shown in:\n",
            "    https://scikit-learn.org/stable/modules/preprocessing.html\n",
            "Please also refer to the documentation for alternative solver options:\n",
            "    https://scikit-learn.org/stable/modules/linear_model.html#logistic-regression\n",
            "  n_iter_i = _check_optimize_result(\n",
            "/usr/local/lib/python3.12/dist-packages/sklearn/linear_model/_logistic.py:465: ConvergenceWarning: lbfgs failed to converge (status=1):\n",
            "STOP: TOTAL NO. OF ITERATIONS REACHED LIMIT.\n",
            "\n",
            "Increase the number of iterations (max_iter) or scale the data as shown in:\n",
            "    https://scikit-learn.org/stable/modules/preprocessing.html\n",
            "Please also refer to the documentation for alternative solver options:\n",
            "    https://scikit-learn.org/stable/modules/linear_model.html#logistic-regression\n",
            "  n_iter_i = _check_optimize_result(\n"
          ]
        }
      ]
    },
    {
      "cell_type": "code",
      "source": [
        "import matplotlib.pyplot as plt\n",
        "plt.figure(figsize=(10, 6))\n",
        "plt.xlim(4,11)\n",
        "#plt.xticks(range(4,11,1))\n",
        "\n",
        "plt.errorbar(K, means_test_score, yerr=std_test_score, fmt='o', capsize=5, label='Validación (test)', color='blue')\n",
        "plt.errorbar(K, means_train_score, yerr=std_train_score, fmt='s', capsize=5, label='Entrenamiento (train)', color='orange')\n",
        "plt.legend()\n",
        "\n",
        "plt.show()\n"
      ],
      "metadata": {
        "colab": {
          "base_uri": "https://localhost:8080/",
          "height": 522
        },
        "id": "s2v_U9Ju-xRN",
        "outputId": "b9f2e361-8819-4b2f-eadd-181264dd396b"
      },
      "execution_count": 51,
      "outputs": [
        {
          "output_type": "display_data",
          "data": {
            "text/plain": [
              "<Figure size 1000x600 with 1 Axes>"
            ],
            "image/png": "[encoded data removed]"
          },
          "metadata": {}
        }
      ]
    }
  ]
}