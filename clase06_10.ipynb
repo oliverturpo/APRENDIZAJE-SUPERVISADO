{
  "nbformat": 4,
  "nbformat_minor": 0,
  "metadata": {
    "colab": {
      "provenance": [],
      "authorship_tag": "ABX9TyOq+kxkKKOo2E3SXXfL8aks",
      "include_colab_link": true
    },
    "kernelspec": {
      "name": "python3",
      "display_name": "Python 3"
    },
    "language_info": {
      "name": "python"
    }
  },
  "cells": [
    {
      "cell_type": "markdown",
      "metadata": {
        "id": "view-in-github",
        "colab_type": "text"
      },
      "source": [
        "<a href=\"https://colab.research.google.com/github/oliverturpo/APRENDIZAJE-SUPERVISADO/blob/main/clase06_10.ipynb\" target=\"_parent\"><img src=\"https://colab.research.google.com/assets/colab-badge.svg\" alt=\"Open In Colab\"/></a>"
      ]
    },
    {
      "cell_type": "code",
      "execution_count": 7,
      "metadata": {
        "id": "6v8Kl22bxg-S"
      },
      "outputs": [],
      "source": [
        "import numpy as np\n",
        "from sklearn.model_selection import cross_validate, KFold\n",
        "from sklearn.linear_model import LogisticRegression\n",
        "from sklearn.datasets import load_iris\n",
        "\n",
        "\n",
        "\n",
        "\n",
        "\n"
      ]
    },
    {
      "cell_type": "code",
      "source": [
        "X, y = load_iris(return_X_y=True)\n"
      ],
      "metadata": {
        "id": "GR0rxTp1zODR"
      },
      "execution_count": 8,
      "outputs": []
    },
    {
      "cell_type": "code",
      "source": [
        "modelo = LogisticRegression(max_iter=100)"
      ],
      "metadata": {
        "id": "p6MkZ3Tb0uKq"
      },
      "execution_count": 9,
      "outputs": []
    },
    {
      "cell_type": "code",
      "source": [
        "K = 5\n",
        "kf = KFold(n_splits=K, shuffle=True, random_state=42)\n",
        "\n"
      ],
      "metadata": {
        "id": "F_zGLx-1082h"
      },
      "execution_count": 11,
      "outputs": []
    },
    {
      "cell_type": "code",
      "source": [
        "metricas = cross_validate(modelo, X, y, cv=kf, return_train_score=True)\n",
        "metricas"
      ],
      "metadata": {
        "colab": {
          "base_uri": "https://localhost:8080/"
        },
        "id": "VDc2fH9y2CO0",
        "outputId": "67c8bfad-a0f7-4812-8d0e-daa1825cc838"
      },
      "execution_count": 15,
      "outputs": [
        {
          "output_type": "execute_result",
          "data": {
            "text/plain": [
              "{'fit_time': array([0.04179668, 0.0416019 , 0.03104353, 0.01613879, 0.01992202]),\n",
              " 'score_time': array([0.00119948, 0.00123072, 0.00107527, 0.00115943, 0.0011251 ]),\n",
              " 'test_score': array([1.        , 1.        , 0.93333333, 0.96666667, 0.96666667]),\n",
              " 'train_score': array([0.975     , 0.95833333, 0.98333333, 0.975     , 0.98333333])}"
            ]
          },
          "metadata": {},
          "execution_count": 15
        }
      ]
    },
    {
      "cell_type": "code",
      "source": [
        "test_score = metricas['test_score']"
      ],
      "metadata": {
        "id": "igh1r4ph3whe"
      },
      "execution_count": 16,
      "outputs": []
    }
  ]
}